{
 "cells": [
  {
   "cell_type": "markdown",
   "id": "1945d33e",
   "metadata": {},
   "source": [
    "### Importación de Bibliotecas"
   ]
  },
  {
   "cell_type": "code",
   "execution_count": 1,
   "id": "d6ba19f0",
   "metadata": {},
   "outputs": [],
   "source": [
    "import pandas as pd\n",
    "import os"
   ]
  },
  {
   "cell_type": "markdown",
   "id": "ea44829f",
   "metadata": {},
   "source": [
    "### Cargar el conjunto de datos limpios"
   ]
  },
  {
   "cell_type": "code",
   "execution_count": 2,
   "id": "e91fb29f",
   "metadata": {},
   "outputs": [],
   "source": [
    "df_steam_games = pd.read_csv('steam_games_cleaned.csv')\n",
    "df_user_reviews = pd.read_csv('user_reviews_cleaned.csv')"
   ]
  },
  {
   "cell_type": "markdown",
   "id": "694d5faa",
   "metadata": {},
   "source": [
    "### Rutinas"
   ]
  },
  {
   "cell_type": "markdown",
   "id": "e29faf98",
   "metadata": {},
   "source": [
    "##### - 3. UsersRecommend"
   ]
  },
  {
   "cell_type": "code",
   "execution_count": 3,
   "id": "dc63d0b8",
   "metadata": {},
   "outputs": [],
   "source": [
    "# Merge de los dos DataFrames\n",
    "df_merged = pd.merge(df_user_reviews, df_steam_games, on='item_id', how='left')\n",
    "\n",
    "# Filtrar las filas que cumplen con las condiciones\n",
    "result = df_merged.loc[(df_merged['recommend'] == True) & (df_merged['sentiment_analysis'].isin([1, 2])),\n",
    "                           ['year_x', 'name']]\n",
    "\n",
    "# Renombrar la columna 'year_x' a 'year'\n",
    "result = result.rename(columns={'year_x': 'year'})\n",
    "\n",
    "# Agrupar por 'year' y 'name' y contar las ocurrencias\n",
    "grouped_result = result.groupby(['year', 'name']).size().reset_index(name='count')\n",
    "\n",
    "# Ordenar por 'year' y 'count' en orden descendente\n",
    "grouped_result = grouped_result.sort_values(by=['year', 'count'], ascending=[False, False])\n",
    "\n",
    "# Obtener el top 3 por año\n",
    "top3_by_year = grouped_result.groupby('year').head(3)\n",
    "\n",
    "# Guardar el resultado en un archivo CSV\n",
    "top3_by_year.to_csv('UsersRecommend.csv', index=False)"
   ]
  },
  {
   "cell_type": "markdown",
   "id": "64c3da89",
   "metadata": {},
   "source": [
    "##### - 5. sentiment_analysis"
   ]
  },
  {
   "cell_type": "code",
   "execution_count": 8,
   "id": "e2e4b600",
   "metadata": {},
   "outputs": [],
   "source": [
    "# Unir los DataFrames por la columna 'item_id'\n",
    "merged_df = pd.merge(df_steam_games, df_user_reviews, on='item_id', how='inner')\n",
    "\n",
    "# Agrupar por desarrolladora y sentimiento, y contar las ocurrencias\n",
    "result_df = merged_df.groupby(['developer', 'sentiment_analysis']).size().reset_index(name='count')\n",
    "\n",
    "# Pivoteando el DataFrame para tener sentimientos como columnas\n",
    "result_df = result_df.pivot(index='developer', columns='sentiment_analysis', values='count').reset_index()\n",
    "\n",
    "# Renombrar las columnas según el formato deseado\n",
    "result_df.columns = ['developer', 'Negative', 'Neutral', 'Positive']\n",
    "\n",
    "# Rellenar NaN con 0\n",
    "result_df = result_df.fillna(0)\n",
    "\n",
    "# Convertir las columnas a tipo int\n",
    "result_df[['Negative', 'Neutral', 'Positive']] = result_df[['Negative', 'Neutral', 'Positive']].astype(int)\n",
    "\n",
    "# Guardar el resultado en un archivo CSV\n",
    "result_df.to_csv('sentiment_analysis.csv', index=False)"
   ]
  },
  {
   "cell_type": "code",
   "execution_count": 2,
   "id": "29f9342d",
   "metadata": {},
   "outputs": [
    {
     "data": {
      "text/plain": [
       "'\\n\\n# In[4]:\\ndef UsersWorstDeveloper(year: str):\\n    df_steam_games = pd.read_csv(\\'steam_games_cleaned.csv\\')\\n    df_user_reviews = pd.read_csv(\\'user_reviews_cleaned.csv\\')\\n    \\n    # Unir los DataFrames\\n    df_merged = pd.merge(df_user_reviews, df_steam_games, on=\\'item_id\\', how=\\'left\\')\\n\\n    # Filtrar las filas que cumplen con las condiciones\\n    df_filtered = df_merged.loc[(df_merged[\\'recommend\\'] == False) & (df_merged[\\'sentiment_analysis\\'] == 0),\\n                                [\\'year_x\\', \\'developer\\']]\\n \\n    # Renombrar la columna \\'year_x\\' a \\'year\\'\\n    df_filtered = df_filtered.rename(columns={\\'year_x\\': \\'year\\'})\\n\\n    # Contar las ocurrencias de cada desarrolladora por año\\n    developer_counts = df_filtered.groupby([\\'year\\', \\'developer\\']).size().reset_index(name=\\'count\\')\\n    \\n    # Ordenar por \\'year\\' y \\'count\\' en orden descendente\\n    grouped_result = developer_counts.sort_values(by=[\\'year\\', \\'count\\'], ascending=[False, False])    \\n\\n    # Obtener el top 3 por año\\n    top3_by_year = grouped_result.groupby(\\'year\\').head(3)    \\n    \\n    response_data = [{\"Puesto 1\": top3_by_year.iloc[0][\\'developer\\']},\\n                    {\"Puesto 2\": top3_by_year.iloc[1][\\'developer\\']},\\n                    {\"Puesto 3\": top3_by_year.iloc[2][\\'developer\\']}]\\n    \\n    return response_data\\n\\n\\n# In[ ]:\\ndef sentiment_analysis(empresa_desarrolladora: str):\\n    df_steam_games = pd.read_csv(\\'steam_games_cleaned.csv\\')\\n    df_user_reviews = pd.read_csv(\\'user_reviews_cleaned.csv\\')\\n\\n    # Unir los DataFrames por la columna \\'item_id\\'\\n    merged_df = pd.merge(df_steam_games, df_user_reviews, on=\\'item_id\\', how=\\'inner\\')\\n\\n    # Agrupar por desarrolladora y sentimiento, y contar las ocurrencias\\n    result_df = merged_df.groupby([\\'developer\\', \\'sentiment_analysis\\']).size().reset_index(name=\\'count\\')\\n\\n    # Pivoteando el DataFrame para tener sentimientos como columnas\\n    result_df = result_df.pivot(index=\\'developer\\', columns=\\'sentiment_analysis\\', values=\\'count\\').reset_index()\\n\\n    # Renombrar las columnas según el formato deseado\\n    result_df.columns = [\\'developer\\', \\'Negative\\', \\'Neutral\\', \\'Positive\\']\\n\\n    # Rellenar NaN con 0\\n    result_df = result_df.fillna(0)\\n\\n    # Convertir las columnas a tipo int\\n    result_df[[\\'Negative\\', \\'Neutral\\', \\'Positive\\']] = result_df[[\\'Negative\\', \\'Neutral\\', \\'Positive\\']].astype(int)\\n\\n    # Filtrar por la empresa desarrolladora\\n    df_filtered = result_df[result_df[\\'developer\\'] == empresa_desarrolladora]\\n\\n    # Convertir a formato de diccionario\\n    sentiment_dict = df_filtered.set_index(\\'developer\\').to_dict(orient=\\'index\\')\\n\\n    return sentiment_dict\\n    \\n'"
      ]
     },
     "execution_count": 2,
     "metadata": {},
     "output_type": "execute_result"
    }
   ],
   "source": [
    "'''\n",
    "\n",
    "# In[4]:\n",
    "def UsersWorstDeveloper(year: str):\n",
    "    df_steam_games = pd.read_csv('steam_games_cleaned.csv')\n",
    "    df_user_reviews = pd.read_csv('user_reviews_cleaned.csv')\n",
    "    \n",
    "    # Unir los DataFrames\n",
    "    df_merged = pd.merge(df_user_reviews, df_steam_games, on='item_id', how='left')\n",
    "\n",
    "    # Filtrar las filas que cumplen con las condiciones\n",
    "    df_filtered = df_merged.loc[(df_merged['recommend'] == False) & (df_merged['sentiment_analysis'] == 0),\n",
    "                                ['year_x', 'developer']]\n",
    " \n",
    "    # Renombrar la columna 'year_x' a 'year'\n",
    "    df_filtered = df_filtered.rename(columns={'year_x': 'year'})\n",
    "\n",
    "    # Contar las ocurrencias de cada desarrolladora por año\n",
    "    developer_counts = df_filtered.groupby(['year', 'developer']).size().reset_index(name='count')\n",
    "    \n",
    "    # Ordenar por 'year' y 'count' en orden descendente\n",
    "    grouped_result = developer_counts.sort_values(by=['year', 'count'], ascending=[False, False])    \n",
    "\n",
    "    # Obtener el top 3 por año\n",
    "    top3_by_year = grouped_result.groupby('year').head(3)    \n",
    "    \n",
    "    response_data = [{\"Puesto 1\": top3_by_year.iloc[0]['developer']},\n",
    "                    {\"Puesto 2\": top3_by_year.iloc[1]['developer']},\n",
    "                    {\"Puesto 3\": top3_by_year.iloc[2]['developer']}]\n",
    "    \n",
    "    return response_data\n",
    "\n",
    "\n",
    "# In[ ]:\n",
    "\n",
    "'''"
   ]
  },
  {
   "cell_type": "code",
   "execution_count": null,
   "id": "a9719f33",
   "metadata": {},
   "outputs": [],
   "source": []
  },
  {
   "cell_type": "code",
   "execution_count": null,
   "id": "37838835",
   "metadata": {},
   "outputs": [],
   "source": []
  }
 ],
 "metadata": {
  "kernelspec": {
   "display_name": "Python 3 (ipykernel)",
   "language": "python",
   "name": "python3"
  },
  "language_info": {
   "codemirror_mode": {
    "name": "ipython",
    "version": 3
   },
   "file_extension": ".py",
   "mimetype": "text/x-python",
   "name": "python",
   "nbconvert_exporter": "python",
   "pygments_lexer": "ipython3",
   "version": "3.10.9"
  }
 },
 "nbformat": 4,
 "nbformat_minor": 5
}
