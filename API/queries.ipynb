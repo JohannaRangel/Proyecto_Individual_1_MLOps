{
 "cells": [
  {
   "cell_type": "markdown",
   "id": "18fe0739",
   "metadata": {},
   "source": [
    "### Importación de Bibliotecas"
   ]
  },
  {
   "cell_type": "code",
   "execution_count": 20,
   "id": "2b2d26c4",
   "metadata": {},
   "outputs": [],
   "source": [
    "import pandas as pd\n",
    "import os\n",
    "import ast"
   ]
  },
  {
   "cell_type": "markdown",
   "id": "f5c2c2a2",
   "metadata": {},
   "source": [
    "### Cargar el conjunto de datos limpios"
   ]
  },
  {
   "cell_type": "code",
   "execution_count": 21,
   "id": "7840870b",
   "metadata": {},
   "outputs": [],
   "source": [
    "df_steam_games = pd.read_csv('steam_games_cleaned.csv')\n",
    "df_user_reviews = pd.read_csv('user_reviews_cleaned.csv')\n",
    "df_user_items = pd.read_csv('user_items_cleaned.csv')"
   ]
  },
  {
   "cell_type": "code",
   "execution_count": 24,
   "id": "6e41c922",
   "metadata": {},
   "outputs": [],
   "source": [
    "def UserForGenre(genero: str):\n",
    "    # Merge de los DataFrames\n",
    "    df_merged = pd.merge(df_user_items, df_steam_games[['item_id', 'genres', 'year']], on='item_id', how='inner')\n",
    "\n",
    "    # Convertir la columna 'genres' a listas\n",
    "    df_merged['genres'] = df_merged['genres'].apply(eval)\n",
    "\n",
    "    # Filtrar el DataFrame para el género específico\n",
    "    filtered_df = df_merged[df_merged['genres'].apply(lambda x: genero in x)]\n",
    "\n",
    "    # Agrupar por usuario y año de lanzamiento y sumar las horas jugadas\n",
    "    grouped_df = filtered_df.groupby(['user_id', 'year'])['hours_game'].sum().reset_index()\n",
    "\n",
    "    if grouped_df.empty:\n",
    "        return {\"mensaje\": f\"No hay datos disponibles para el género {genero}.\"}\n",
    "\n",
    "    # Encontrar el usuario con más horas jugadas para el género dado\n",
    "    max_hours_user = grouped_df.groupby('user_id')['hours_game'].sum().idxmax()\n",
    "\n",
    "    # Filtrar el DataFrame para el usuario con más horas jugadas\n",
    "    user_df = grouped_df[grouped_df['user_id'] == max_hours_user]\n",
    "\n",
    "    # Construir la lista de la acumulación de horas jugadas por año\n",
    "    horas_por_anio = [{\"Año\": int(row['year']), \"Horas\": row['hours_game']} for _, row in user_df.iterrows()]\n",
    "\n",
    "    # Construir el response_data\n",
    "    response_data = {\n",
    "        f\"Usuario con más horas jugadas para {genero}\": max_hours_user,\n",
    "        \"Horas jugadas\": horas_por_anio\n",
    "    }\n",
    "\n",
    "    # Mostrar el resultado\n",
    "    return response_data\n"
   ]
  },
  {
   "cell_type": "code",
   "execution_count": 25,
   "id": "b9131133",
   "metadata": {},
   "outputs": [
    {
     "ename": "TypeError",
     "evalue": "eval() arg 1 must be a string, bytes or code object",
     "output_type": "error",
     "traceback": [
      "\u001b[1;31m---------------------------------------------------------------------------\u001b[0m",
      "\u001b[1;31mTypeError\u001b[0m                                 Traceback (most recent call last)",
      "Cell \u001b[1;32mIn[25], line 1\u001b[0m\n\u001b[1;32m----> 1\u001b[0m \u001b[43mUserForGenre\u001b[49m\u001b[43m(\u001b[49m\u001b[38;5;124;43m'\u001b[39;49m\u001b[38;5;124;43mAction\u001b[39;49m\u001b[38;5;124;43m'\u001b[39;49m\u001b[43m)\u001b[49m\n",
      "Cell \u001b[1;32mIn[24], line 6\u001b[0m, in \u001b[0;36mUserForGenre\u001b[1;34m(genero)\u001b[0m\n\u001b[0;32m      3\u001b[0m df_merged \u001b[38;5;241m=\u001b[39m pd\u001b[38;5;241m.\u001b[39mmerge(df_user_items, df_steam_games[[\u001b[38;5;124m'\u001b[39m\u001b[38;5;124mitem_id\u001b[39m\u001b[38;5;124m'\u001b[39m, \u001b[38;5;124m'\u001b[39m\u001b[38;5;124mgenres\u001b[39m\u001b[38;5;124m'\u001b[39m, \u001b[38;5;124m'\u001b[39m\u001b[38;5;124myear\u001b[39m\u001b[38;5;124m'\u001b[39m]], on\u001b[38;5;241m=\u001b[39m\u001b[38;5;124m'\u001b[39m\u001b[38;5;124mitem_id\u001b[39m\u001b[38;5;124m'\u001b[39m, how\u001b[38;5;241m=\u001b[39m\u001b[38;5;124m'\u001b[39m\u001b[38;5;124minner\u001b[39m\u001b[38;5;124m'\u001b[39m)\n\u001b[0;32m      5\u001b[0m \u001b[38;5;66;03m# Convertir la columna 'genres' a listas\u001b[39;00m\n\u001b[1;32m----> 6\u001b[0m df_merged[\u001b[38;5;124m'\u001b[39m\u001b[38;5;124mgenres\u001b[39m\u001b[38;5;124m'\u001b[39m] \u001b[38;5;241m=\u001b[39m \u001b[43mdf_merged\u001b[49m\u001b[43m[\u001b[49m\u001b[38;5;124;43m'\u001b[39;49m\u001b[38;5;124;43mgenres\u001b[39;49m\u001b[38;5;124;43m'\u001b[39;49m\u001b[43m]\u001b[49m\u001b[38;5;241;43m.\u001b[39;49m\u001b[43mapply\u001b[49m\u001b[43m(\u001b[49m\u001b[38;5;28;43meval\u001b[39;49m\u001b[43m)\u001b[49m\n\u001b[0;32m      8\u001b[0m \u001b[38;5;66;03m# Filtrar el DataFrame para el género específico\u001b[39;00m\n\u001b[0;32m      9\u001b[0m filtered_df \u001b[38;5;241m=\u001b[39m df_merged[df_merged[\u001b[38;5;124m'\u001b[39m\u001b[38;5;124mgenres\u001b[39m\u001b[38;5;124m'\u001b[39m]\u001b[38;5;241m.\u001b[39mapply(\u001b[38;5;28;01mlambda\u001b[39;00m x: genero \u001b[38;5;129;01min\u001b[39;00m x)]\n",
      "File \u001b[1;32m~\\anaconda3\\lib\\site-packages\\pandas\\core\\series.py:4771\u001b[0m, in \u001b[0;36mSeries.apply\u001b[1;34m(self, func, convert_dtype, args, **kwargs)\u001b[0m\n\u001b[0;32m   4661\u001b[0m \u001b[38;5;28;01mdef\u001b[39;00m \u001b[38;5;21mapply\u001b[39m(\n\u001b[0;32m   4662\u001b[0m     \u001b[38;5;28mself\u001b[39m,\n\u001b[0;32m   4663\u001b[0m     func: AggFuncType,\n\u001b[1;32m   (...)\u001b[0m\n\u001b[0;32m   4666\u001b[0m     \u001b[38;5;241m*\u001b[39m\u001b[38;5;241m*\u001b[39mkwargs,\n\u001b[0;32m   4667\u001b[0m ) \u001b[38;5;241m-\u001b[39m\u001b[38;5;241m>\u001b[39m DataFrame \u001b[38;5;241m|\u001b[39m Series:\n\u001b[0;32m   4668\u001b[0m     \u001b[38;5;124;03m\"\"\"\u001b[39;00m\n\u001b[0;32m   4669\u001b[0m \u001b[38;5;124;03m    Invoke function on values of Series.\u001b[39;00m\n\u001b[0;32m   4670\u001b[0m \n\u001b[1;32m   (...)\u001b[0m\n\u001b[0;32m   4769\u001b[0m \u001b[38;5;124;03m    dtype: float64\u001b[39;00m\n\u001b[0;32m   4770\u001b[0m \u001b[38;5;124;03m    \"\"\"\u001b[39;00m\n\u001b[1;32m-> 4771\u001b[0m     \u001b[38;5;28;01mreturn\u001b[39;00m \u001b[43mSeriesApply\u001b[49m\u001b[43m(\u001b[49m\u001b[38;5;28;43mself\u001b[39;49m\u001b[43m,\u001b[49m\u001b[43m \u001b[49m\u001b[43mfunc\u001b[49m\u001b[43m,\u001b[49m\u001b[43m \u001b[49m\u001b[43mconvert_dtype\u001b[49m\u001b[43m,\u001b[49m\u001b[43m \u001b[49m\u001b[43margs\u001b[49m\u001b[43m,\u001b[49m\u001b[43m \u001b[49m\u001b[43mkwargs\u001b[49m\u001b[43m)\u001b[49m\u001b[38;5;241;43m.\u001b[39;49m\u001b[43mapply\u001b[49m\u001b[43m(\u001b[49m\u001b[43m)\u001b[49m\n",
      "File \u001b[1;32m~\\anaconda3\\lib\\site-packages\\pandas\\core\\apply.py:1123\u001b[0m, in \u001b[0;36mSeriesApply.apply\u001b[1;34m(self)\u001b[0m\n\u001b[0;32m   1120\u001b[0m     \u001b[38;5;28;01mreturn\u001b[39;00m \u001b[38;5;28mself\u001b[39m\u001b[38;5;241m.\u001b[39mapply_str()\n\u001b[0;32m   1122\u001b[0m \u001b[38;5;66;03m# self.f is Callable\u001b[39;00m\n\u001b[1;32m-> 1123\u001b[0m \u001b[38;5;28;01mreturn\u001b[39;00m \u001b[38;5;28;43mself\u001b[39;49m\u001b[38;5;241;43m.\u001b[39;49m\u001b[43mapply_standard\u001b[49m\u001b[43m(\u001b[49m\u001b[43m)\u001b[49m\n",
      "File \u001b[1;32m~\\anaconda3\\lib\\site-packages\\pandas\\core\\apply.py:1174\u001b[0m, in \u001b[0;36mSeriesApply.apply_standard\u001b[1;34m(self)\u001b[0m\n\u001b[0;32m   1172\u001b[0m     \u001b[38;5;28;01melse\u001b[39;00m:\n\u001b[0;32m   1173\u001b[0m         values \u001b[38;5;241m=\u001b[39m obj\u001b[38;5;241m.\u001b[39mastype(\u001b[38;5;28mobject\u001b[39m)\u001b[38;5;241m.\u001b[39m_values\n\u001b[1;32m-> 1174\u001b[0m         mapped \u001b[38;5;241m=\u001b[39m \u001b[43mlib\u001b[49m\u001b[38;5;241;43m.\u001b[39;49m\u001b[43mmap_infer\u001b[49m\u001b[43m(\u001b[49m\n\u001b[0;32m   1175\u001b[0m \u001b[43m            \u001b[49m\u001b[43mvalues\u001b[49m\u001b[43m,\u001b[49m\n\u001b[0;32m   1176\u001b[0m \u001b[43m            \u001b[49m\u001b[43mf\u001b[49m\u001b[43m,\u001b[49m\n\u001b[0;32m   1177\u001b[0m \u001b[43m            \u001b[49m\u001b[43mconvert\u001b[49m\u001b[38;5;241;43m=\u001b[39;49m\u001b[38;5;28;43mself\u001b[39;49m\u001b[38;5;241;43m.\u001b[39;49m\u001b[43mconvert_dtype\u001b[49m\u001b[43m,\u001b[49m\n\u001b[0;32m   1178\u001b[0m \u001b[43m        \u001b[49m\u001b[43m)\u001b[49m\n\u001b[0;32m   1180\u001b[0m \u001b[38;5;28;01mif\u001b[39;00m \u001b[38;5;28mlen\u001b[39m(mapped) \u001b[38;5;129;01mand\u001b[39;00m \u001b[38;5;28misinstance\u001b[39m(mapped[\u001b[38;5;241m0\u001b[39m], ABCSeries):\n\u001b[0;32m   1181\u001b[0m     \u001b[38;5;66;03m# GH#43986 Need to do list(mapped) in order to get treated as nested\u001b[39;00m\n\u001b[0;32m   1182\u001b[0m     \u001b[38;5;66;03m#  See also GH#25959 regarding EA support\u001b[39;00m\n\u001b[0;32m   1183\u001b[0m     \u001b[38;5;28;01mreturn\u001b[39;00m obj\u001b[38;5;241m.\u001b[39m_constructor_expanddim(\u001b[38;5;28mlist\u001b[39m(mapped), index\u001b[38;5;241m=\u001b[39mobj\u001b[38;5;241m.\u001b[39mindex)\n",
      "File \u001b[1;32m~\\anaconda3\\lib\\site-packages\\pandas\\_libs\\lib.pyx:2924\u001b[0m, in \u001b[0;36mpandas._libs.lib.map_infer\u001b[1;34m()\u001b[0m\n",
      "\u001b[1;31mTypeError\u001b[0m: eval() arg 1 must be a string, bytes or code object"
     ]
    }
   ],
   "source": [
    "UserForGenre('Action')"
   ]
  },
  {
   "cell_type": "markdown",
   "id": "b539c3f2",
   "metadata": {},
   "source": [
    "### Rutinas"
   ]
  },
  {
   "cell_type": "markdown",
   "id": "f04870b1",
   "metadata": {},
   "source": [
    "##### - 1. PlayTimeGenre"
   ]
  },
  {
   "cell_type": "code",
   "execution_count": 4,
   "id": "ab284295",
   "metadata": {},
   "outputs": [],
   "source": [
    "# Merge de los DataFrames\n",
    "df_merged = pd.merge(df_user_items, df_steam_games[['item_id', 'year', 'genres']], on='item_id', how='inner')\n",
    "\n",
    "#Agrupamos por genero y año de lanzamiento y sumar las horas jugadas\n",
    "#df_merged = df_merged.groupby(['genres', 'year']).agg({'hours_game': 'sum'}).reset_index()\n",
    "\n",
    "#Agrupamos por genero y año de lanzamiento\n",
    "df_merged = df_merged.groupby(['year', 'genres'])['hours_game'].sum().reset_index()\n",
    "\n",
    "#Convertimos la columna genres a tipo lista\n",
    "df_merged['genres'] = df_merged['genres'].apply(ast.literal_eval)\n",
    "\n",
    "#Expandimos las listas en columnas\n",
    "df_merged = df_merged.explode('genres').reset_index(drop=True)\n",
    "\n",
    "# Encontrar el género con más horas jugadas por año \n",
    "max_hours_genre = df_merged.loc[df_merged.groupby(['year', 'genres'])['hours_game'].idxmax()]\n",
    "\n",
    "# Ordenar el DataFrame resultante\n",
    "max_hours_genre = max_hours_genre.sort_values(by=['genres', 'hours_game', 'year'], ascending=[True, False, True])\n",
    "\n",
    "# Guardar el resultado en un archivo CSV\n",
    "max_hours_genre.to_csv('PlayTimeGenre.csv', index=False)"
   ]
  },
  {
   "cell_type": "markdown",
   "id": "2490122c",
   "metadata": {},
   "source": [
    "##### - 3. UsersRecommend"
   ]
  },
  {
   "cell_type": "code",
   "execution_count": 4,
   "id": "006aa3c2",
   "metadata": {},
   "outputs": [],
   "source": [
    "# Merge de los DataFrames\n",
    "df_merged = pd.merge(df_user_reviews, df_steam_games, on='item_id', how='left')\n",
    "\n",
    "# Filtrar las filas que cumplen con las condiciones\n",
    "result = df_merged.loc[(df_merged['recommend'] == True) & (df_merged['sentiment_analysis'].isin([1, 2])),\n",
    "                           ['year_x', 'name']]\n",
    "\n",
    "# Renombrar la columna 'year_x' a 'year'\n",
    "result = result.rename(columns={'year_x': 'year'})\n",
    "\n",
    "# Agrupar por 'year' y 'name' y contar las ocurrencias\n",
    "grouped_result = result.groupby(['year', 'name']).size().reset_index(name='count')\n",
    "\n",
    "# Ordenar por 'year' y 'count' en orden descendente\n",
    "grouped_result = grouped_result.sort_values(by=['year', 'count'], ascending=[False, False])\n",
    "\n",
    "# Obtener el top 3 por año\n",
    "top3_by_year = grouped_result.groupby('year').head(3)\n",
    "\n",
    "# Guardar el resultado en un archivo CSV\n",
    "top3_by_year.to_csv('UsersRecommend.csv', index=False)"
   ]
  },
  {
   "cell_type": "markdown",
   "id": "445bdcdc",
   "metadata": {},
   "source": [
    "##### - 4. UsersWorstDeveloper"
   ]
  },
  {
   "cell_type": "code",
   "execution_count": 5,
   "id": "dd80a85b",
   "metadata": {},
   "outputs": [],
   "source": [
    "# Unir los DataFrames\n",
    "df_merged = pd.merge(df_user_reviews, df_steam_games, on='item_id', how='left')\n",
    "\n",
    "# Filtrar las filas que cumplen con las condiciones\n",
    "df_filtered = df_merged.loc[(df_merged['recommend'] == False) & (df_merged['sentiment_analysis'] == 0),\n",
    "                           ['year_x', 'developer']]\n",
    " \n",
    "# Renombrar la columna 'year_x' a 'year'\n",
    "df_filtered = df_filtered.rename(columns={'year_x': 'year'})\n",
    "\n",
    "# Contar las ocurrencias de cada desarrolladora por año\n",
    "developer_counts = df_filtered.groupby(['year', 'developer']).size().reset_index(name='count')\n",
    "    \n",
    "# Ordenar por 'year' y 'count' en orden descendente\n",
    "grouped_result = developer_counts.sort_values(by=['year', 'count'], ascending=[False, False])    \n",
    "\n",
    "# Obtener el top 3 por año\n",
    "result_df = grouped_result.groupby('year').head(3)    \n",
    "\n",
    "# Guardar el resultado en un archivo CSV\n",
    "result_df.to_csv('UsersWorstDeveloper.csv', index=False)"
   ]
  },
  {
   "cell_type": "markdown",
   "id": "8b993638",
   "metadata": {},
   "source": [
    "##### - 5. sentiment_analysis"
   ]
  },
  {
   "cell_type": "code",
   "execution_count": 6,
   "id": "fdadfba1",
   "metadata": {},
   "outputs": [],
   "source": [
    "# Merge de los DataFrames\n",
    "merged_df = pd.merge(df_steam_games, df_user_reviews, on='item_id', how='inner')\n",
    "\n",
    "# Agrupar por desarrolladora y sentimiento, y contar las ocurrencias\n",
    "result_df = merged_df.groupby(['developer', 'sentiment_analysis']).size().reset_index(name='count')\n",
    "\n",
    "# Pivoteando el DataFrame para tener sentimientos como columnas\n",
    "result_df = result_df.pivot(index='developer', columns='sentiment_analysis', values='count').reset_index()\n",
    "\n",
    "# Renombrar las columnas según el formato deseado\n",
    "result_df.columns = ['developer', 'Negative', 'Neutral', 'Positive']\n",
    "\n",
    "# Rellenar NaN con 0\n",
    "result_df = result_df.fillna(0)\n",
    "\n",
    "# Convertir las columnas a tipo int\n",
    "result_df[['Negative', 'Neutral', 'Positive']] = result_df[['Negative', 'Neutral', 'Positive']].astype(int)\n",
    "\n",
    "# Guardar el resultado en un archivo CSV\n",
    "result_df.to_csv('sentiment_analysis.csv', index=False)"
   ]
  },
  {
   "cell_type": "code",
   "execution_count": null,
   "id": "f0b75f13",
   "metadata": {},
   "outputs": [],
   "source": []
  }
 ],
 "metadata": {
  "kernelspec": {
   "display_name": "Python 3 (ipykernel)",
   "language": "python",
   "name": "python3"
  },
  "language_info": {
   "codemirror_mode": {
    "name": "ipython",
    "version": 3
   },
   "file_extension": ".py",
   "mimetype": "text/x-python",
   "name": "python",
   "nbconvert_exporter": "python",
   "pygments_lexer": "ipython3",
   "version": "3.10.9"
  }
 },
 "nbformat": 4,
 "nbformat_minor": 5
}
