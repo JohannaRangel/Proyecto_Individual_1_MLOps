{
 "cells": [
  {
   "cell_type": "code",
   "execution_count": 4,
   "metadata": {},
   "outputs": [],
   "source": [
    "import pandas as pd\n",
    "import os\n",
    "from sklearn.feature_extraction.text import CountVectorizer\n",
    "from sklearn.metrics.pairwise import cosine_similarity\n",
    "import numpy as np\n",
    "import ast"
   ]
  },
  {
   "cell_type": "markdown",
   "metadata": {},
   "source": [
    "Sistema de recomendación item-item:\n",
    "\n",
    "    def recomendacion_juego( id de producto ): Ingresando el id de producto, deberíamos recibir una lista con 5 juegos recomendados similares al ingresado."
   ]
  },
  {
   "cell_type": "markdown",
   "metadata": {},
   "source": [
    "Ruta relativa para traer el dataset limpio que vamos a utilizar y creamos un dataframe para trabajar"
   ]
  },
  {
   "cell_type": "code",
   "execution_count": 2,
   "metadata": {},
   "outputs": [],
   "source": [
    "# Creamos el dataframe\n",
    "games = pd.read_csv('steam_games_cleaned.csv')\n",
    "# Solo nos quedamos con las columnas que vamos a necesitar\n",
    "modelo_df = games.loc[:, [\"specs\", \"item_id\",'name']]"
   ]
  },
  {
   "cell_type": "code",
   "execution_count": 3,
   "metadata": {},
   "outputs": [
    {
     "data": {
      "text/plain": [
       "0                                        ['Single-player']\n",
       "1        ['Single-player', 'Multi-player', 'Online Mult...\n",
       "2        ['Single-player', 'Multi-player', 'Online Mult...\n",
       "3                                        ['Single-player']\n",
       "4        ['Single-player', 'Full controller support', '...\n",
       "                               ...                        \n",
       "32128              ['Single-player', 'Steam Achievements']\n",
       "32129    ['Single-player', 'Steam Achievements', 'Steam...\n",
       "32130    ['Single-player', 'Steam Achievements', 'Steam...\n",
       "32131    ['Single-player', 'Steam Achievements', 'Steam...\n",
       "32132    ['Single-player', 'Stats', 'Steam Leaderboards...\n",
       "Name: specs, Length: 32133, dtype: object"
      ]
     },
     "execution_count": 3,
     "metadata": {},
     "output_type": "execute_result"
    }
   ],
   "source": [
    "# Asignamos la columna 'specs' a una variable para luego tratarla y limpiar caracteres\n",
    "specs_variable = modelo_df['specs'].copy()\n",
    "specs_variable"
   ]
  },
  {
   "cell_type": "code",
   "execution_count": 4,
   "metadata": {},
   "outputs": [
    {
     "data": {
      "text/plain": [
       "0                                          'Single-player'\n",
       "1        'Single-player', 'Multi-player', 'Online Multi...\n",
       "2        'Single-player', 'Multi-player', 'Online Multi...\n",
       "3                                          'Single-player'\n",
       "4        'Single-player', 'Full controller support', 'H...\n",
       "                               ...                        \n",
       "32128                'Single-player', 'Steam Achievements'\n",
       "32129    'Single-player', 'Steam Achievements', 'Steam ...\n",
       "32130    'Single-player', 'Steam Achievements', 'Steam ...\n",
       "32131    'Single-player', 'Steam Achievements', 'Steam ...\n",
       "32132    'Single-player', 'Stats', 'Steam Leaderboards'...\n",
       "Name: specs, Length: 32133, dtype: object"
      ]
     },
     "execution_count": 4,
     "metadata": {},
     "output_type": "execute_result"
    }
   ],
   "source": [
    "# Convertimos a cadena antes de reemplazar los corchetes que queremos sacar\n",
    "specs_variable = specs_variable.apply(lambda x: str(x).replace('[', '').replace(']', ''))\n",
    "specs_variable"
   ]
  },
  {
   "cell_type": "code",
   "execution_count": 5,
   "metadata": {},
   "outputs": [
    {
     "data": {
      "text/plain": [
       "0                                            Single-player\n",
       "1        Single-player, Multi-player, Online Multi-Play...\n",
       "2        Single-player, Multi-player, Online Multi-Play...\n",
       "3                                            Single-player\n",
       "4        Single-player, Full controller support, HTC Vi...\n",
       "                               ...                        \n",
       "32128                    Single-player, Steam Achievements\n",
       "32129    Single-player, Steam Achievements, Steam Cloud...\n",
       "32130    Single-player, Steam Achievements, Steam Tradi...\n",
       "32131       Single-player, Steam Achievements, Steam Cloud\n",
       "32132    Single-player, Stats, Steam Leaderboards, HTC ...\n",
       "Name: specs, Length: 32133, dtype: object"
      ]
     },
     "execution_count": 5,
     "metadata": {},
     "output_type": "execute_result"
    }
   ],
   "source": [
    "# Suponiendo que specs_variable es tu serie con las cadenas\n",
    "specs_variable = specs_variable.str.replace(\"'\", '')\n",
    "specs_variable"
   ]
  },
  {
   "cell_type": "code",
   "execution_count": 6,
   "metadata": {},
   "outputs": [
    {
     "name": "stdout",
     "output_type": "stream",
     "text": [
      "0                                            Single-player\n",
      "1        Single-player, Multi-player, Online Multi-Play...\n",
      "2        Single-player, Multi-player, Online Multi-Play...\n",
      "3                                            Single-player\n",
      "4        Single-player, Full controller support, HTC Vi...\n",
      "                               ...                        \n",
      "32128                    Single-player, Steam Achievements\n",
      "32129    Single-player, Steam Achievements, Steam Cloud...\n",
      "32130    Single-player, Steam Achievements, Steam Tradi...\n",
      "32131       Single-player, Steam Achievements, Steam Cloud\n",
      "32132    Single-player, Stats, Steam Leaderboards, HTC ...\n",
      "Name: specs, Length: 32133, dtype: object\n"
     ]
    }
   ],
   "source": [
    "\n",
    "\n",
    "\n",
    "# Reemplazamos la columna 'specs' en el DataFrame original con la nueva columna tratada\n",
    "modelo_df['specs'] = specs_variable\n",
    "# Imprimimos para ver como quedo la columna después de reemplazar\n",
    "print(modelo_df['specs'])"
   ]
  },
  {
   "cell_type": "code",
   "execution_count": 4,
   "metadata": {},
   "outputs": [],
   "source": [
    "# Vamos a cambiar unos errores que hay en la columna specs\n",
    "# como vemos hay unos errores de caracteres, que vamos a solucionar de la siguiente manera\n",
    "#modelo_df['specs'] = modelo_df['specs'].replace('Design &amp; Illustration', 'Design & Illustration')\n",
    "#modelo_df['specs'] = modelo_df['specs'].replace('Animation &amp; Modeling', 'Animation & Modeling')"
   ]
  },
  {
   "cell_type": "code",
   "execution_count": 7,
   "metadata": {},
   "outputs": [
    {
     "name": "stdout",
     "output_type": "stream",
     "text": [
      "['Single-player'\n",
      " 'Single-player, Multi-player, Online Multi-Player, Cross-Platform Multiplayer, Steam Achievements, Steam Trading Cards, In-App Purchases'\n",
      " 'Single-player, Multi-player, Online Multi-Player, In-App Purchases, Stats'\n",
      " ...\n",
      " 'Steam Workshop, Steam Cloud, HTC Vive, Oculus Rift, Windows Mixed Reality, Tracked Motion Controllers, Keyboard / Mouse, Seated, Standing, Room-Scale'\n",
      " 'Single-player, Multi-player, Online Multi-Player, Online Co-op, Partial Controller Support, Stats'\n",
      " 'Multi-player, Co-op, Shared/Split Screen, Steam Achievements, Full controller support, Steam Trading Cards']\n"
     ]
    }
   ],
   "source": [
    "print(modelo_df['specs'].unique())"
   ]
  },
  {
   "cell_type": "markdown",
   "metadata": {},
   "source": [
    "Vamos a empezar con el modelo de machine learning"
   ]
  },
  {
   "cell_type": "markdown",
   "metadata": {},
   "source": [
    "CountVectorizer es una clase de la biblioteca scikit-learn que se utiliza para convertir una colección de documentos de texto en una matriz de recuento de términos o tokens. \n",
    "\n",
    "Toma un conjunto de documentos de texto y crea una representación numérica de esos documentos en forma de una matriz donde cada fila representa un documento y cada columna representa una palabra única en el conjunto de documentos. La entrada en cada celda de la matriz indica cuántas veces aparece esa palabra en el documento correspondiente."
   ]
  },
  {
   "cell_type": "code",
   "execution_count": 8,
   "metadata": {},
   "outputs": [],
   "source": [
    "# Cargamos en la variable cv, CountVectorizer que es la herramienta de preprocesamiento que convierte datos \n",
    "# de texto en una representación numérica adecuada para ser utilizada por algoritmos de aprendizaje automático\n",
    "cv = CountVectorizer()"
   ]
  },
  {
   "cell_type": "code",
   "execution_count": 9,
   "metadata": {},
   "outputs": [
    {
     "data": {
      "text/plain": [
       "(32133, 71)"
      ]
     },
     "execution_count": 9,
     "metadata": {},
     "output_type": "execute_result"
    }
   ],
   "source": [
    "# ahora vamos a ajustar la herramienta CountVectorizer al contenido de la columna 'specs' \n",
    "# y transformar esos datos en una matriz de recuento de términos\n",
    "# Con .toarray(): Convierte la representación dispersa de la matriz de recuento de términos a una matriz densa.\n",
    "# .shape: Devuelve la forma (número de filas y columnas) de la matriz resultante.\n",
    "cv.fit_transform(modelo_df['specs']).toarray().shape"
   ]
  },
  {
   "cell_type": "code",
   "execution_count": 10,
   "metadata": {},
   "outputs": [],
   "source": [
    "# Se generan los vectores a comparar \n",
    "vectores = cv.fit_transform(modelo_df['specs']).toarray()"
   ]
  },
  {
   "cell_type": "code",
   "execution_count": 11,
   "metadata": {},
   "outputs": [
    {
     "data": {
      "text/plain": [
       "array([[0, 0, 0, ..., 0, 0, 0],\n",
       "       [1, 0, 1, ..., 0, 0, 0],\n",
       "       [0, 0, 1, ..., 0, 0, 0],\n",
       "       ...,\n",
       "       [1, 0, 0, ..., 0, 0, 0],\n",
       "       [1, 0, 0, ..., 0, 0, 0],\n",
       "       [0, 0, 0, ..., 1, 0, 0]], dtype=int64)"
      ]
     },
     "execution_count": 11,
     "metadata": {},
     "output_type": "execute_result"
    }
   ],
   "source": [
    "# Mostramos como quedo Nuestra variable vectores\n",
    "vectores"
   ]
  },
  {
   "cell_type": "markdown",
   "metadata": {},
   "source": [
    "cosine_similarity() nos va a servir para Calcular la similitud coseno entre todos los pares de vectores en la matriz.\n",
    "\n",
    "La similitud coseno es una medida de similitud entre dos vectores en un espacio multidimensional que mide el coseno del ángulo entre ellos. Se utiliza comúnmente para comparar la similitud entre documentos en el análisis de texto."
   ]
  },
  {
   "cell_type": "code",
   "execution_count": 12,
   "metadata": {},
   "outputs": [],
   "source": [
    "# Aplicamos la similitud del coseno a nuestros vectores\n",
    "similitud = cosine_similarity(vectores)"
   ]
  },
  {
   "cell_type": "code",
   "execution_count": 13,
   "metadata": {},
   "outputs": [
    {
     "data": {
      "text/plain": [
       "array([1.        , 0.53452248, 0.64888568, ..., 0.47140452, 0.5       ,\n",
       "       0.36514837])"
      ]
     },
     "execution_count": 13,
     "metadata": {},
     "output_type": "execute_result"
    }
   ],
   "source": [
    "# Se obtiene el array de similitud\n",
    "similitud[0]"
   ]
  },
  {
   "cell_type": "code",
   "execution_count": 14,
   "metadata": {},
   "outputs": [
    {
     "data": {
      "text/plain": [
       "[(3, 0.9999999999999998),\n",
       " (10, 0.9999999999999998),\n",
       " (13, 0.9999999999999998),\n",
       " (14, 0.9999999999999998),\n",
       " (21, 0.9999999999999998)]"
      ]
     },
     "execution_count": 14,
     "metadata": {},
     "output_type": "execute_result"
    }
   ],
   "source": [
    "# Ordenamos la similitud entre más similar a menos similar tomando 5 valores\n",
    "sorted(list(enumerate(similitud[0])), reverse=True, key=lambda x:x[1])[1:6]"
   ]
  },
  {
   "cell_type": "markdown",
   "metadata": {},
   "source": [
    "Ahora que tenemos la matriz ya ordenada y tomamos los valores que necesitamos, vamos a generar una funcion para poder despues crear una columna y guardar los datos para agilizar la funcion consulta"
   ]
  },
  {
   "cell_type": "code",
   "execution_count": 17,
   "metadata": {},
   "outputs": [],
   "source": [
    "modelo_df[\"item_id\"] = modelo_df[\"item_id\"].astype(int)\n"
   ]
  },
  {
   "cell_type": "code",
   "execution_count": 19,
   "metadata": {},
   "outputs": [],
   "source": [
    "# Se genera una función que te da la recomendación por título\n",
    "def recomendacion(juego):\n",
    "    # Obtenemos el índice del juego con el ID dado\n",
    "    indice_juego = modelo_df[modelo_df[\"item_id\"] == juego].index[0]\n",
    "\n",
    "    # Obtenemos las distancias de similitud para el juego dado\n",
    "    distances = similitud[indice_juego]\n",
    "\n",
    "    # Ordenamos las distancias en orden descendente y obtener las 5 recomendaciones principales (excluyendo el juego dado)\n",
    "    lista_juegos = sorted(list(enumerate(distances)), reverse=True, key=lambda x: x[1])[1:6]\n",
    "\n",
    "    # Obtenemos los nombres de los juegos recomendados\n",
    "    recommended_titles = [modelo_df.iloc[i[0]]['name'] for i in lista_juegos]\n",
    "\n",
    "    return recommended_titles"
   ]
  },
  {
   "cell_type": "markdown",
   "metadata": {},
   "source": [
    "Vamos a aplicar la funcion al dataframe modelo_df para crear la columna RecomendacionesTop5 con todas las recomendaciones que nos arrojo el modelo y la funcion"
   ]
  },
  {
   "cell_type": "code",
   "execution_count": 20,
   "metadata": {},
   "outputs": [
    {
     "data": {
      "text/html": [
       "<div>\n",
       "<style scoped>\n",
       "    .dataframe tbody tr th:only-of-type {\n",
       "        vertical-align: middle;\n",
       "    }\n",
       "\n",
       "    .dataframe tbody tr th {\n",
       "        vertical-align: top;\n",
       "    }\n",
       "\n",
       "    .dataframe thead th {\n",
       "        text-align: right;\n",
       "    }\n",
       "</style>\n",
       "<table border=\"1\" class=\"dataframe\">\n",
       "  <thead>\n",
       "    <tr style=\"text-align: right;\">\n",
       "      <th></th>\n",
       "      <th>specs</th>\n",
       "      <th>item_id</th>\n",
       "      <th>name</th>\n",
       "    </tr>\n",
       "  </thead>\n",
       "  <tbody>\n",
       "    <tr>\n",
       "      <th>0</th>\n",
       "      <td>Single-player</td>\n",
       "      <td>761140</td>\n",
       "      <td>Lost Summoner Kitty</td>\n",
       "    </tr>\n",
       "    <tr>\n",
       "      <th>1</th>\n",
       "      <td>Single-player, Multi-player, Online Multi-Play...</td>\n",
       "      <td>643980</td>\n",
       "      <td>Ironbound</td>\n",
       "    </tr>\n",
       "    <tr>\n",
       "      <th>2</th>\n",
       "      <td>Single-player, Multi-player, Online Multi-Play...</td>\n",
       "      <td>670290</td>\n",
       "      <td>Real Pool 3D - Poolians</td>\n",
       "    </tr>\n",
       "    <tr>\n",
       "      <th>3</th>\n",
       "      <td>Single-player</td>\n",
       "      <td>767400</td>\n",
       "      <td>弹炸人2222</td>\n",
       "    </tr>\n",
       "    <tr>\n",
       "      <th>4</th>\n",
       "      <td>Single-player, Full controller support, HTC Vi...</td>\n",
       "      <td>773570</td>\n",
       "      <td>Log Challenge</td>\n",
       "    </tr>\n",
       "    <tr>\n",
       "      <th>...</th>\n",
       "      <td>...</td>\n",
       "      <td>...</td>\n",
       "      <td>...</td>\n",
       "    </tr>\n",
       "    <tr>\n",
       "      <th>32128</th>\n",
       "      <td>Single-player, Steam Achievements</td>\n",
       "      <td>773640</td>\n",
       "      <td>Colony On Mars</td>\n",
       "    </tr>\n",
       "    <tr>\n",
       "      <th>32129</th>\n",
       "      <td>Single-player, Steam Achievements, Steam Cloud...</td>\n",
       "      <td>733530</td>\n",
       "      <td>LOGistICAL: South Africa</td>\n",
       "    </tr>\n",
       "    <tr>\n",
       "      <th>32130</th>\n",
       "      <td>Single-player, Steam Achievements, Steam Tradi...</td>\n",
       "      <td>610660</td>\n",
       "      <td>Russian Roads</td>\n",
       "    </tr>\n",
       "    <tr>\n",
       "      <th>32131</th>\n",
       "      <td>Single-player, Steam Achievements, Steam Cloud</td>\n",
       "      <td>658870</td>\n",
       "      <td>EXIT 2 - Directions</td>\n",
       "    </tr>\n",
       "    <tr>\n",
       "      <th>32132</th>\n",
       "      <td>Single-player, Stats, Steam Leaderboards, HTC ...</td>\n",
       "      <td>681550</td>\n",
       "      <td>Maze Run VR</td>\n",
       "    </tr>\n",
       "  </tbody>\n",
       "</table>\n",
       "<p>32133 rows × 3 columns</p>\n",
       "</div>"
      ],
      "text/plain": [
       "                                                   specs  item_id  \\\n",
       "0                                          Single-player   761140   \n",
       "1      Single-player, Multi-player, Online Multi-Play...   643980   \n",
       "2      Single-player, Multi-player, Online Multi-Play...   670290   \n",
       "3                                          Single-player   767400   \n",
       "4      Single-player, Full controller support, HTC Vi...   773570   \n",
       "...                                                  ...      ...   \n",
       "32128                  Single-player, Steam Achievements   773640   \n",
       "32129  Single-player, Steam Achievements, Steam Cloud...   733530   \n",
       "32130  Single-player, Steam Achievements, Steam Tradi...   610660   \n",
       "32131     Single-player, Steam Achievements, Steam Cloud   658870   \n",
       "32132  Single-player, Stats, Steam Leaderboards, HTC ...   681550   \n",
       "\n",
       "                           name  \n",
       "0           Lost Summoner Kitty  \n",
       "1                     Ironbound  \n",
       "2       Real Pool 3D - Poolians  \n",
       "3                       弹炸人2222  \n",
       "4                 Log Challenge  \n",
       "...                         ...  \n",
       "32128            Colony On Mars  \n",
       "32129  LOGistICAL: South Africa  \n",
       "32130             Russian Roads  \n",
       "32131       EXIT 2 - Directions  \n",
       "32132               Maze Run VR  \n",
       "\n",
       "[32133 rows x 3 columns]"
      ]
     },
     "execution_count": 20,
     "metadata": {},
     "output_type": "execute_result"
    }
   ],
   "source": [
    "modelo_df"
   ]
  },
  {
   "cell_type": "code",
   "execution_count": 21,
   "metadata": {},
   "outputs": [],
   "source": [
    "# Se aplica la función al dataframe para obtener una nueva columna con las recomendaciones ya que es más facil \n",
    "# de cargar y leer para la funcion\n",
    "modelo_df['RecomendacionesTop5'] = modelo_df['item_id'].apply(recomendacion)"
   ]
  },
  {
   "cell_type": "code",
   "execution_count": 22,
   "metadata": {},
   "outputs": [
    {
     "name": "stdout",
     "output_type": "stream",
     "text": [
      "<class 'pandas.core.frame.DataFrame'>\n",
      "RangeIndex: 32133 entries, 0 to 32132\n",
      "Data columns (total 4 columns):\n",
      " #   Column               Non-Null Count  Dtype \n",
      "---  ------               --------------  ----- \n",
      " 0   specs                32133 non-null  object\n",
      " 1   item_id              32133 non-null  int32 \n",
      " 2   name                 32132 non-null  object\n",
      " 3   RecomendacionesTop5  32133 non-null  object\n",
      "dtypes: int32(1), object(3)\n",
      "memory usage: 878.8+ KB\n"
     ]
    }
   ],
   "source": [
    "# Vemos como nos quedaron las columnas y el peso del dataframe\n",
    "modelo_df.info()"
   ]
  },
  {
   "cell_type": "code",
   "execution_count": 23,
   "metadata": {},
   "outputs": [
    {
     "data": {
      "text/html": [
       "<div>\n",
       "<style scoped>\n",
       "    .dataframe tbody tr th:only-of-type {\n",
       "        vertical-align: middle;\n",
       "    }\n",
       "\n",
       "    .dataframe tbody tr th {\n",
       "        vertical-align: top;\n",
       "    }\n",
       "\n",
       "    .dataframe thead th {\n",
       "        text-align: right;\n",
       "    }\n",
       "</style>\n",
       "<table border=\"1\" class=\"dataframe\">\n",
       "  <thead>\n",
       "    <tr style=\"text-align: right;\">\n",
       "      <th></th>\n",
       "      <th>specs</th>\n",
       "      <th>item_id</th>\n",
       "      <th>name</th>\n",
       "      <th>RecomendacionesTop5</th>\n",
       "    </tr>\n",
       "  </thead>\n",
       "  <tbody>\n",
       "    <tr>\n",
       "      <th>0</th>\n",
       "      <td>Single-player</td>\n",
       "      <td>761140</td>\n",
       "      <td>Lost Summoner Kitty</td>\n",
       "      <td>[弹炸人2222, Uncanny Islands, Beach Rules, Planet...</td>\n",
       "    </tr>\n",
       "    <tr>\n",
       "      <th>1</th>\n",
       "      <td>Single-player, Multi-player, Online Multi-Play...</td>\n",
       "      <td>643980</td>\n",
       "      <td>Ironbound</td>\n",
       "      <td>[Duelyst, Warhammer 40,000: Regicide, KROSMAGA...</td>\n",
       "    </tr>\n",
       "    <tr>\n",
       "      <th>2</th>\n",
       "      <td>Single-player, Multi-player, Online Multi-Play...</td>\n",
       "      <td>670290</td>\n",
       "      <td>Real Pool 3D - Poolians</td>\n",
       "      <td>[Heroes of Havoc: Idle Adventures, Tactical Mo...</td>\n",
       "    </tr>\n",
       "    <tr>\n",
       "      <th>3</th>\n",
       "      <td>Single-player</td>\n",
       "      <td>767400</td>\n",
       "      <td>弹炸人2222</td>\n",
       "      <td>[弹炸人2222, Uncanny Islands, Beach Rules, Planet...</td>\n",
       "    </tr>\n",
       "    <tr>\n",
       "      <th>4</th>\n",
       "      <td>Single-player, Full controller support, HTC Vi...</td>\n",
       "      <td>773570</td>\n",
       "      <td>Log Challenge</td>\n",
       "      <td>[Jam Session VR, The Trace, Caretaker Retribut...</td>\n",
       "    </tr>\n",
       "    <tr>\n",
       "      <th>...</th>\n",
       "      <td>...</td>\n",
       "      <td>...</td>\n",
       "      <td>...</td>\n",
       "      <td>...</td>\n",
       "    </tr>\n",
       "    <tr>\n",
       "      <th>32128</th>\n",
       "      <td>Single-player, Steam Achievements</td>\n",
       "      <td>773640</td>\n",
       "      <td>Colony On Mars</td>\n",
       "      <td>[Army of Tentacles: (Not) A Cthulhu Dating Sim...</td>\n",
       "    </tr>\n",
       "    <tr>\n",
       "      <th>32129</th>\n",
       "      <td>Single-player, Steam Achievements, Steam Cloud...</td>\n",
       "      <td>733530</td>\n",
       "      <td>LOGistICAL: South Africa</td>\n",
       "      <td>[Runespell: Overture, Rush for Glory, BoomTown...</td>\n",
       "    </tr>\n",
       "    <tr>\n",
       "      <th>32130</th>\n",
       "      <td>Single-player, Steam Achievements, Steam Tradi...</td>\n",
       "      <td>610660</td>\n",
       "      <td>Russian Roads</td>\n",
       "      <td>[Drawn®: The Painted Tower, Tropico 4, The Bin...</td>\n",
       "    </tr>\n",
       "    <tr>\n",
       "      <th>32131</th>\n",
       "      <td>Single-player, Steam Achievements, Steam Cloud</td>\n",
       "      <td>658870</td>\n",
       "      <td>EXIT 2 - Directions</td>\n",
       "      <td>[Fate of the World, Fate of the World: Tipping...</td>\n",
       "    </tr>\n",
       "    <tr>\n",
       "      <th>32132</th>\n",
       "      <td>Single-player, Stats, Steam Leaderboards, HTC ...</td>\n",
       "      <td>681550</td>\n",
       "      <td>Maze Run VR</td>\n",
       "      <td>[Maze Run VR, CyberThreat, Super Pixel Smash, ...</td>\n",
       "    </tr>\n",
       "  </tbody>\n",
       "</table>\n",
       "<p>32133 rows × 4 columns</p>\n",
       "</div>"
      ],
      "text/plain": [
       "                                                   specs  item_id  \\\n",
       "0                                          Single-player   761140   \n",
       "1      Single-player, Multi-player, Online Multi-Play...   643980   \n",
       "2      Single-player, Multi-player, Online Multi-Play...   670290   \n",
       "3                                          Single-player   767400   \n",
       "4      Single-player, Full controller support, HTC Vi...   773570   \n",
       "...                                                  ...      ...   \n",
       "32128                  Single-player, Steam Achievements   773640   \n",
       "32129  Single-player, Steam Achievements, Steam Cloud...   733530   \n",
       "32130  Single-player, Steam Achievements, Steam Tradi...   610660   \n",
       "32131     Single-player, Steam Achievements, Steam Cloud   658870   \n",
       "32132  Single-player, Stats, Steam Leaderboards, HTC ...   681550   \n",
       "\n",
       "                           name  \\\n",
       "0           Lost Summoner Kitty   \n",
       "1                     Ironbound   \n",
       "2       Real Pool 3D - Poolians   \n",
       "3                       弹炸人2222   \n",
       "4                 Log Challenge   \n",
       "...                         ...   \n",
       "32128            Colony On Mars   \n",
       "32129  LOGistICAL: South Africa   \n",
       "32130             Russian Roads   \n",
       "32131       EXIT 2 - Directions   \n",
       "32132               Maze Run VR   \n",
       "\n",
       "                                     RecomendacionesTop5  \n",
       "0      [弹炸人2222, Uncanny Islands, Beach Rules, Planet...  \n",
       "1      [Duelyst, Warhammer 40,000: Regicide, KROSMAGA...  \n",
       "2      [Heroes of Havoc: Idle Adventures, Tactical Mo...  \n",
       "3      [弹炸人2222, Uncanny Islands, Beach Rules, Planet...  \n",
       "4      [Jam Session VR, The Trace, Caretaker Retribut...  \n",
       "...                                                  ...  \n",
       "32128  [Army of Tentacles: (Not) A Cthulhu Dating Sim...  \n",
       "32129  [Runespell: Overture, Rush for Glory, BoomTown...  \n",
       "32130  [Drawn®: The Painted Tower, Tropico 4, The Bin...  \n",
       "32131  [Fate of the World, Fate of the World: Tipping...  \n",
       "32132  [Maze Run VR, CyberThreat, Super Pixel Smash, ...  \n",
       "\n",
       "[32133 rows x 4 columns]"
      ]
     },
     "execution_count": 23,
     "metadata": {},
     "output_type": "execute_result"
    }
   ],
   "source": [
    "modelo_df"
   ]
  },
  {
   "cell_type": "code",
   "execution_count": 24,
   "metadata": {},
   "outputs": [],
   "source": [
    "# Una vez echa la columna de recomendaciones podemos borrar los demas campos que no precisamos\n",
    "modelo_df.drop(columns=['name','specs'], inplace=True)"
   ]
  },
  {
   "cell_type": "code",
   "execution_count": 25,
   "metadata": {},
   "outputs": [
    {
     "name": "stdout",
     "output_type": "stream",
     "text": [
      "<class 'pandas.core.frame.DataFrame'>\n",
      "RangeIndex: 32133 entries, 0 to 32132\n",
      "Data columns (total 2 columns):\n",
      " #   Column               Non-Null Count  Dtype \n",
      "---  ------               --------------  ----- \n",
      " 0   item_id              32133 non-null  int32 \n",
      " 1   RecomendacionesTop5  32133 non-null  object\n",
      "dtypes: int32(1), object(1)\n",
      "memory usage: 376.7+ KB\n"
     ]
    }
   ],
   "source": [
    "# Chequeamos\n",
    "modelo_df.info()"
   ]
  },
  {
   "cell_type": "markdown",
   "metadata": {},
   "source": [
    "Por ultimo creamos el CSV para alimentar la funcion consulta"
   ]
  },
  {
   "cell_type": "code",
   "execution_count": 26,
   "metadata": {},
   "outputs": [],
   "source": [
    "# Guardamos el resultado en un nuevo archivo CSV\n",
    "modelo_df.to_csv('modelo_espec.csv', index=False)"
   ]
  },
  {
   "cell_type": "code",
   "execution_count": 27,
   "metadata": {},
   "outputs": [
    {
     "data": {
      "text/html": [
       "<div>\n",
       "<style scoped>\n",
       "    .dataframe tbody tr th:only-of-type {\n",
       "        vertical-align: middle;\n",
       "    }\n",
       "\n",
       "    .dataframe tbody tr th {\n",
       "        vertical-align: top;\n",
       "    }\n",
       "\n",
       "    .dataframe thead th {\n",
       "        text-align: right;\n",
       "    }\n",
       "</style>\n",
       "<table border=\"1\" class=\"dataframe\">\n",
       "  <thead>\n",
       "    <tr style=\"text-align: right;\">\n",
       "      <th></th>\n",
       "      <th>item_id</th>\n",
       "      <th>RecomendacionesTop5</th>\n",
       "    </tr>\n",
       "  </thead>\n",
       "  <tbody>\n",
       "    <tr>\n",
       "      <th>0</th>\n",
       "      <td>761140</td>\n",
       "      <td>[弹炸人2222, Uncanny Islands, Beach Rules, Planet...</td>\n",
       "    </tr>\n",
       "    <tr>\n",
       "      <th>1</th>\n",
       "      <td>643980</td>\n",
       "      <td>[Duelyst, Warhammer 40,000: Regicide, KROSMAGA...</td>\n",
       "    </tr>\n",
       "    <tr>\n",
       "      <th>2</th>\n",
       "      <td>670290</td>\n",
       "      <td>[Heroes of Havoc: Idle Adventures, Tactical Mo...</td>\n",
       "    </tr>\n",
       "    <tr>\n",
       "      <th>3</th>\n",
       "      <td>767400</td>\n",
       "      <td>[弹炸人2222, Uncanny Islands, Beach Rules, Planet...</td>\n",
       "    </tr>\n",
       "    <tr>\n",
       "      <th>4</th>\n",
       "      <td>773570</td>\n",
       "      <td>[Jam Session VR, The Trace, Caretaker Retribut...</td>\n",
       "    </tr>\n",
       "    <tr>\n",
       "      <th>...</th>\n",
       "      <td>...</td>\n",
       "      <td>...</td>\n",
       "    </tr>\n",
       "    <tr>\n",
       "      <th>32128</th>\n",
       "      <td>773640</td>\n",
       "      <td>[Army of Tentacles: (Not) A Cthulhu Dating Sim...</td>\n",
       "    </tr>\n",
       "    <tr>\n",
       "      <th>32129</th>\n",
       "      <td>733530</td>\n",
       "      <td>[Runespell: Overture, Rush for Glory, BoomTown...</td>\n",
       "    </tr>\n",
       "    <tr>\n",
       "      <th>32130</th>\n",
       "      <td>610660</td>\n",
       "      <td>[Drawn®: The Painted Tower, Tropico 4, The Bin...</td>\n",
       "    </tr>\n",
       "    <tr>\n",
       "      <th>32131</th>\n",
       "      <td>658870</td>\n",
       "      <td>[Fate of the World, Fate of the World: Tipping...</td>\n",
       "    </tr>\n",
       "    <tr>\n",
       "      <th>32132</th>\n",
       "      <td>681550</td>\n",
       "      <td>[Maze Run VR, CyberThreat, Super Pixel Smash, ...</td>\n",
       "    </tr>\n",
       "  </tbody>\n",
       "</table>\n",
       "<p>32133 rows × 2 columns</p>\n",
       "</div>"
      ],
      "text/plain": [
       "       item_id                                RecomendacionesTop5\n",
       "0       761140  [弹炸人2222, Uncanny Islands, Beach Rules, Planet...\n",
       "1       643980  [Duelyst, Warhammer 40,000: Regicide, KROSMAGA...\n",
       "2       670290  [Heroes of Havoc: Idle Adventures, Tactical Mo...\n",
       "3       767400  [弹炸人2222, Uncanny Islands, Beach Rules, Planet...\n",
       "4       773570  [Jam Session VR, The Trace, Caretaker Retribut...\n",
       "...        ...                                                ...\n",
       "32128   773640  [Army of Tentacles: (Not) A Cthulhu Dating Sim...\n",
       "32129   733530  [Runespell: Overture, Rush for Glory, BoomTown...\n",
       "32130   610660  [Drawn®: The Painted Tower, Tropico 4, The Bin...\n",
       "32131   658870  [Fate of the World, Fate of the World: Tipping...\n",
       "32132   681550  [Maze Run VR, CyberThreat, Super Pixel Smash, ...\n",
       "\n",
       "[32133 rows x 2 columns]"
      ]
     },
     "execution_count": 27,
     "metadata": {},
     "output_type": "execute_result"
    }
   ],
   "source": [
    "modelo_df"
   ]
  },
  {
   "cell_type": "code",
   "execution_count": null,
   "metadata": {},
   "outputs": [],
   "source": []
  }
 ],
 "metadata": {
  "kernelspec": {
   "display_name": "Python 3 (ipykernel)",
   "language": "python",
   "name": "python3"
  },
  "language_info": {
   "codemirror_mode": {
    "name": "ipython",
    "version": 3
   },
   "file_extension": ".py",
   "mimetype": "text/x-python",
   "name": "python",
   "nbconvert_exporter": "python",
   "pygments_lexer": "ipython3",
   "version": "3.10.9"
  }
 },
 "nbformat": 4,
 "nbformat_minor": 2
}
