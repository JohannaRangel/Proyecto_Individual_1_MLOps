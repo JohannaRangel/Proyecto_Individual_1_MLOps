{
 "cells": [
  {
   "cell_type": "code",
   "execution_count": null,
   "id": "ce138475",
   "metadata": {},
   "outputs": [],
   "source": [
    "import pandas as pd\n",
    "import os"
   ]
  },
  {
   "cell_type": "code",
   "execution_count": null,
   "id": "9568f1fc",
   "metadata": {},
   "outputs": [],
   "source": [
    "def UserForGenre(genero:str):\n",
    "    consulta2 = pd.read_csv('UserForGenre.csv')\n",
    "    \n",
    "    # Filtrar el DataFrame por el género dado\n",
    "    genre_data = consulta2[consulta2['genres'] == genero]\n",
    "\n",
    "    # Encontrar al usuario con más horas jugadas para ese género\n",
    "    top_user = genre_data.loc[genre_data['hours_game'].idxmax()]['user_id']\n",
    "\n",
    "    # Crear una lista de acumulación de horas jugadas por año\n",
    "    hours_by_year = genre_data.groupby('year')['hours_game'].sum().reset_index()\n",
    "    hours_by_year = hours_by_year.rename(columns={'year': 'Año', 'hours_game': 'Horas'})\n",
    "    # Convertir las horas a enteros (int) dividiendo por 60\n",
    "    #hours_by_year['Horas'] = (hours_by_year['Horas'] / 60).astype(int)\n",
    "    hours_list = hours_by_year.to_dict(orient='records')\n",
    "\n",
    "    # Crear el diccionario de retorno\n",
    "    result = {\n",
    "        \"Usuario con más horas jugadas para Género {}\".format(genero): top_user,\n",
    "        \"Horas jugadas\": hours_list\n",
    "    }\n",
    "\n",
    "    return result"
   ]
  },
  {
   "cell_type": "code",
   "execution_count": null,
   "id": "17d0e15f",
   "metadata": {},
   "outputs": [],
   "source": [
    "def PlayTimeGenre(genero: str):\n",
    "    result_df = pd.read_csv('PlayTimeGenre.csv')\n",
    "\n",
    "    # Filtrar el DataFrame para el género específico\n",
    "    filtered_df = result_df[result_df['genres'] == genero]\n",
    "    \n",
    "    # Agrupar por año de lanzamiento y sumar las horas jugadas\n",
    "    grouped_df = filtered_df.groupby('year')['hours_game'].sum()\n",
    "    \n",
    "    # Encontrar el año con más horas jugadas\n",
    "    max_hours_year = grouped_df.idxmax()\n",
    "\n",
    "    # Construye el response_data\n",
    "    response_data = {\"Año de lanzamiento con más horas jugadas para {}: {}\".format(genero, max_hours_year)}\n",
    "\n",
    "    # Muestra el resultado\n",
    "    return response_data"
   ]
  },
  {
   "cell_type": "code",
   "execution_count": null,
   "id": "cf81b1d0",
   "metadata": {},
   "outputs": [],
   "source": [
    "def UsersRecommend(year: int):\n",
    "    df = pd.read_csv('UsersRecommend.csv')\n",
    "    \n",
    "    # Filtrar el DataFrame por el año especificado\n",
    "    result_df = df[df['year'] == year]\n",
    "\n",
    "    response_data = [{\"Puesto 1\": result_df.iloc[0]['name']},\n",
    "                     {\"Puesto 2\": result_df.iloc[1]['name']},\n",
    "                     {\"Puesto 3\": result_df.iloc[2]['name']}]\n",
    "\n",
    "    return response_data"
   ]
  },
  {
   "cell_type": "code",
   "execution_count": null,
   "id": "3d2594e4",
   "metadata": {},
   "outputs": [],
   "source": [
    "def UsersWorstDeveloper(year: int):\n",
    "    df = pd.read_csv('UsersWorstDeveloper.csv')\n",
    "\n",
    "    # Filtrar el DataFrame por el año especificado\n",
    "    result_df = df[df['year'] == year]\n",
    "    \n",
    "    response_data = [{\"Puesto 1\": result_df.iloc[0]['developer']},\n",
    "                    {\"Puesto 2\": result_df.iloc[1]['developer']},\n",
    "                    {\"Puesto 3\": result_df.iloc[2]['developer']}]\n",
    "    \n",
    "    return response_data\n",
    "\n"
   ]
  },
  {
   "cell_type": "code",
   "execution_count": null,
   "id": "bb732931",
   "metadata": {},
   "outputs": [],
   "source": [
    "def sentiment_analysis(empresa_desarrolladora: str):\n",
    "    df = pd.read_csv('sentiment_analysis.csv')\n",
    "\n",
    "    # Filtrar por la empresa desarrolladora\n",
    "    result_df = df[df['developer'] == empresa_desarrolladora]\n",
    "\n",
    "    # Convertir a formato de diccionario\n",
    "    response_data = result_df.set_index('developer').to_dict(orient='index')\n",
    "    \n",
    "    return response_data"
   ]
  },
  {
   "cell_type": "code",
   "execution_count": null,
   "id": "9549b869",
   "metadata": {},
   "outputs": [],
   "source": [
    "def recomendacion_usuario(item_id):\n",
    "    df = pd.read_csv('modelo_espec.csv')\n",
    "\n",
    "    # Filtrar el DataFrame por el año especificado\n",
    "    result_df = df[df['item_id'] == item_id]\n",
    "    \n",
    "    response_data = result_df['RecomendacionesTop5']\n",
    "    '''\n",
    "    response_data = [{\"Puesto 1\": result_df.iloc[0]['developer']},\n",
    "                    {\"Puesto 2\": result_df.iloc[1]['developer']},\n",
    "                    {\"Puesto 3\": result_df.iloc[2]['developer']}]\n",
    "    '''\n",
    "    return response_data"
   ]
  }
 ],
 "metadata": {
  "kernelspec": {
   "display_name": "Python 3 (ipykernel)",
   "language": "python",
   "name": "python3"
  },
  "language_info": {
   "codemirror_mode": {
    "name": "ipython",
    "version": 3
   },
   "file_extension": ".py",
   "mimetype": "text/x-python",
   "name": "python",
   "nbconvert_exporter": "python",
   "pygments_lexer": "ipython3",
   "version": "3.10.9"
  }
 },
 "nbformat": 4,
 "nbformat_minor": 5
}
