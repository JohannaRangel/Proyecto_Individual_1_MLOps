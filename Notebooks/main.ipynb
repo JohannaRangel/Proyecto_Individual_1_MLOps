{
 "cells": [
  {
   "cell_type": "code",
   "execution_count": null,
   "id": "3899a326",
   "metadata": {},
   "outputs": [],
   "source": [
    "from fastapi import FastAPI, HTTPException \n",
    "import traceback  # Importa la biblioteca para imprimir la traza de la pila\n",
    "from typing import List, Dict\n",
    "import pandas as pd\n",
    "#import pyarrow\n",
    "from functions import UsersRecommend\n",
    "from functions import sentiment_analysis\n",
    "from functions import UsersWorstDeveloper\n",
    "from functions import PlayTimeGenre\n",
    "from functions import UserForGenre\n",
    "from functions import recomendacion_usuario\n",
    "#from modelo_item_item import recomendacion_usuario"
   ]
  },
  {
   "cell_type": "code",
   "execution_count": null,
   "id": "e65a2ad3",
   "metadata": {},
   "outputs": [],
   "source": [
    "# Crea una instancia de la aplicación FastAPI\n",
    "app = FastAPI()"
   ]
  },
  {
   "cell_type": "code",
   "execution_count": null,
   "id": "30ad5994",
   "metadata": {},
   "outputs": [],
   "source": [
    "@app.get(\"/\")\n",
    "async def root():\n",
    "    return {\"Mensaje\": \"Proyecto Individual\"}"
   ]
  },
  {
   "cell_type": "code",
   "execution_count": null,
   "id": "36e4b005",
   "metadata": {},
   "outputs": [],
   "source": [
    "@app.get(\"/PlayTimeGenre/{genero}\")\n",
    "async def user(genero: str):\n",
    "    try:\n",
    "        result = PlayTimeGenre(genero)\n",
    "        return result\n",
    "    \n",
    "    except FileNotFoundError as e:\n",
    "        raise HTTPException(status_code=500, detail=f\"Error al cargar el archivo PlayTimeGenre.csv: {str(e)}\")\n",
    "\n",
    "    except Exception as e:\n",
    "        traceback.print_exc()  # Imprime la traza de la pila\n",
    "        raise HTTPException(status_code=500, detail=f\"Error interno del servidor: {str(e)}\")"
   ]
  },
  {
   "cell_type": "code",
   "execution_count": null,
   "id": "6a15a5c1",
   "metadata": {},
   "outputs": [],
   "source": [
    "@app.get(\"/UserForGenre/{genero}\")\n",
    "async def user(genero: str):\n",
    "    try:\n",
    "        result = UserForGenre(genero)\n",
    "        return result\n",
    "    \n",
    "    except FileNotFoundError as e:\n",
    "        raise HTTPException(status_code=500, detail=f\"Error al cargar el archivo PlayTimeGenre.csv: {str(e)}\")\n",
    "\n",
    "    except Exception as e:\n",
    "        traceback.print_exc()  # Imprime la traza de la pila\n",
    "        raise HTTPException(status_code=500, detail=f\"Error interno del servidor: {str(e)}\")"
   ]
  },
  {
   "cell_type": "code",
   "execution_count": null,
   "id": "c34656a4",
   "metadata": {},
   "outputs": [],
   "source": [
    "@app.get(\"/UsersRecommend/{year}\")\n",
    "async def user(year: str):\n",
    "    try:\n",
    "        year = int(year)\n",
    "        \n",
    "        result = UsersRecommend(year)\n",
    "        \n",
    "        return result\n",
    "    \n",
    "    except FileNotFoundError as e:\n",
    "        raise HTTPException(status_code=500, detail=f\"Error al cargar el archivo UsersRecommend.csv: {str(e)}\")\n"
   ]
  },
  {
   "cell_type": "code",
   "execution_count": null,
   "id": "a08b48f1",
   "metadata": {},
   "outputs": [],
   "source": [
    "@app.get(\"/UsersWorstDeveloper/{year}\")\n",
    "async def user(year: str):\n",
    "    try:\n",
    "        year = int(year)\n",
    "\n",
    "        result = UsersWorstDeveloper(year)\n",
    "        \n",
    "        return result\n",
    "    \n",
    "    except FileNotFoundError as e:\n",
    "        raise HTTPException(status_code=500, detail=f\"Error al cargar el archivo UsersRecommend.csv: {str(e)}\")"
   ]
  },
  {
   "cell_type": "code",
   "execution_count": null,
   "id": "baad8092",
   "metadata": {},
   "outputs": [],
   "source": [
    "@app.get(\"/sentiment_analysis/{empresa_desarrolladora}\")\n",
    "async def user(empresa_desarrolladora: str):\n",
    "    try:\n",
    "        result = sentiment_analysis(empresa_desarrolladora)\n",
    "        \n",
    "        return result\n",
    "    \n",
    "    except FileNotFoundError as e:\n",
    "        raise HTTPException(status_code=500, detail=f\"Error al cargar el archivo UsersRecommend.csv: {str(e)}\")"
   ]
  },
  {
   "cell_type": "code",
   "execution_count": null,
   "id": "beb2d21e",
   "metadata": {},
   "outputs": [],
   "source": [
    "@app.get(\"/recomendacion_usuario/{item_id}\")\n",
    "async def recomendacion(item_id: str):\n",
    "    try:\n",
    "        item_id = int(item_id) \n",
    "        \n",
    "        resultado= recomendacion_usuario(item_id)\n",
    "        return resultado\n",
    "    except Exception as e:\n",
    "        return {\"error\":str(e)}"
   ]
  }
 ],
 "metadata": {
  "kernelspec": {
   "display_name": "Python 3 (ipykernel)",
   "language": "python",
   "name": "python3"
  },
  "language_info": {
   "codemirror_mode": {
    "name": "ipython",
    "version": 3
   },
   "file_extension": ".py",
   "mimetype": "text/x-python",
   "name": "python",
   "nbconvert_exporter": "python",
   "pygments_lexer": "ipython3",
   "version": "3.10.9"
  }
 },
 "nbformat": 4,
 "nbformat_minor": 5
}
