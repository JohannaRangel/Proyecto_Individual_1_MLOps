{
 "cells": [
  {
   "cell_type": "markdown",
   "id": "70f9a2be",
   "metadata": {},
   "source": [
    "# Diccionario de Datos"
   ]
  },
  {
   "cell_type": "markdown",
   "id": "da2e9a0c",
   "metadata": {},
   "source": [
    "![Steam](https://github.com/JohannaRangel/Proyecto_Individual_1_MLOps/raw/main/assets/Diccionario.png)"
   ]
  },
  {
   "cell_type": "markdown",
   "id": "c6bf9d6a",
   "metadata": {},
   "source": [
    "# Mínimo Producto Viable Aprobatorio"
   ]
  },
  {
   "cell_type": "markdown",
   "id": "36929a54",
   "metadata": {},
   "source": [
    "![Steam](https://github.com/JohannaRangel/Proyecto_Individual_1_MLOps/raw/main/assets/mvp.png)"
   ]
  },
  {
   "cell_type": "markdown",
   "id": "7b72d187",
   "metadata": {},
   "source": [
    "# Repositorio Henry - Pautas del Proyecto"
   ]
  },
  {
   "cell_type": "markdown",
   "id": "0da27990",
   "metadata": {},
   "source": [
    "https://github.com/soyHenry/PI_ML_OPS/tree/main"
   ]
  }
 ],
 "metadata": {
  "kernelspec": {
   "display_name": "Python 3 (ipykernel)",
   "language": "python",
   "name": "python3"
  },
  "language_info": {
   "codemirror_mode": {
    "name": "ipython",
    "version": 3
   },
   "file_extension": ".py",
   "mimetype": "text/x-python",
   "name": "python",
   "nbconvert_exporter": "python",
   "pygments_lexer": "ipython3",
   "version": "3.10.9"
  }
 },
 "nbformat": 4,
 "nbformat_minor": 5
}
